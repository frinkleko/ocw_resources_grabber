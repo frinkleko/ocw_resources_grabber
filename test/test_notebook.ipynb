{
 "cells": [
  {
   "cell_type": "code",
   "execution_count": 1,
   "id": "2de42142",
   "metadata": {},
   "outputs": [],
   "source": [
    "import requests "
   ]
  },
  {
   "cell_type": "code",
   "execution_count": 2,
   "id": "b3cdeb4a",
   "metadata": {},
   "outputs": [],
   "source": [
    "from bs4 import BeautifulSoup"
   ]
  },
  {
   "cell_type": "code",
   "execution_count": 27,
   "id": "2af72f1a",
   "metadata": {},
   "outputs": [],
   "source": [
    "import re"
   ]
  },
  {
   "cell_type": "code",
   "execution_count": 3,
   "id": "50b4e35c",
   "metadata": {},
   "outputs": [],
   "source": [
    "url = \"https://ocw.mit.edu/resources/res-ll-005-mathematics-of-big-data-and-machine-learning-january-iap-2020/lecture-notes/\""
   ]
  },
  {
   "cell_type": "code",
   "execution_count": 4,
   "id": "22af4cb1",
   "metadata": {},
   "outputs": [],
   "source": [
    "ext = \"pdf\""
   ]
  },
  {
   "cell_type": "code",
   "execution_count": 31,
   "id": "a70daf21",
   "metadata": {},
   "outputs": [],
   "source": [
    "req = requests.get(url)"
   ]
  },
  {
   "cell_type": "code",
   "execution_count": 33,
   "id": "e2522879",
   "metadata": {},
   "outputs": [],
   "source": [
    "#print(req.text)"
   ]
  },
  {
   "cell_type": "code",
   "execution_count": null,
   "id": "7a2937e2",
   "metadata": {},
   "outputs": [],
   "source": []
  },
  {
   "cell_type": "code",
   "execution_count": 34,
   "id": "00f08aaa",
   "metadata": {},
   "outputs": [],
   "source": [
    "soup = BeautifulSoup(req.text, \"html.parser\")"
   ]
  },
  {
   "cell_type": "code",
   "execution_count": 35,
   "id": "1cffa635",
   "metadata": {},
   "outputs": [],
   "source": [
    "#print(soup.prettify())\n"
   ]
  },
  {
   "cell_type": "code",
   "execution_count": 36,
   "id": "16425e51",
   "metadata": {},
   "outputs": [],
   "source": [
    "all_a = soup.find_all('a')"
   ]
  },
  {
   "cell_type": "code",
   "execution_count": 42,
   "id": "c91c69c9",
   "metadata": {},
   "outputs": [
    {
     "data": {
      "text/plain": [
       "bs4.element.ResultSet"
      ]
     },
     "execution_count": 42,
     "metadata": {},
     "output_type": "execute_result"
    }
   ],
   "source": [
    "type(all_a)"
   ]
  },
  {
   "cell_type": "code",
   "execution_count": 47,
   "id": "82b7826f",
   "metadata": {},
   "outputs": [],
   "source": [
    "all_a_list = []\n",
    "for a in all_a:\n",
    "    all_a_list.append(a.get('href'))"
   ]
  },
  {
   "cell_type": "code",
   "execution_count": 48,
   "id": "893b68ae",
   "metadata": {},
   "outputs": [
    {
     "data": {
      "text/plain": [
       "['/',\n",
       " '/subscribe/index.htm?utm_source=header',\n",
       " 'https://facebook.com/mitocw',\n",
       " 'https://www.instagram.com/mitocw/',\n",
       " 'https://twitter.com/mitocw',\n",
       " 'https://www.youtube.com/mitocw',\n",
       " 'https://www.ocw-openmatters.org/',\n",
       " '/help',\n",
       " '/about/contactus/',\n",
       " '/',\n",
       " '#',\n",
       " '/courses/find-by-topic/',\n",
       " '/courses/find-by-number/',\n",
       " '/courses/find-by-department/',\n",
       " '/courses/new-courses/',\n",
       " '/courses/most-visited-courses/',\n",
       " '/courses/ocw-scholar/',\n",
       " '/courses/audio-video-courses/',\n",
       " '/courses/online-textbooks/',\n",
       " '/resources/',\n",
       " '/high-school/',\n",
       " '/courses/mitx-related-courseware/',\n",
       " '/courses/mit-open-learning-library/',\n",
       " '/courses/energy-courses',\n",
       " '/courses/entrepreneurship',\n",
       " '/courses/environment-courses',\n",
       " '/courses/intro-programming',\n",
       " '/courses/life-sciences',\n",
       " '/courses/transportation-courses',\n",
       " '/courses/translated-courses/traditional-chinese',\n",
       " '/courses/translated-courses/turkish',\n",
       " '/courses/translated-courses/korean',\n",
       " '#',\n",
       " '/educator/chalk-radio-podcast',\n",
       " '/educator/',\n",
       " '/courses/instructor-insights/',\n",
       " 'https://openlearning.mit.edu/campus/digital-innovations/',\n",
       " '/high-school/',\n",
       " '/educator/additional-resources/',\n",
       " '#',\n",
       " '/give/',\n",
       " '/give/why-give/',\n",
       " '/give/our-supporters/',\n",
       " '/give/other-ways-to-contribute/',\n",
       " '/support/',\n",
       " '#',\n",
       " '/about/',\n",
       " '/about/site-statistics/',\n",
       " '/about/ocw-stories/',\n",
       " '/about/newsletter/',\n",
       " 'https://chalk-radio.simplecast.com/',\n",
       " 'https://www.ocw-openmatters.org/',\n",
       " '#',\n",
       " '/',\n",
       " '/resources',\n",
       " '/resources/res-ll-005-mathematics-of-big-data-and-machine-learning-january-iap-2020',\n",
       " '/resources/res-ll-005-mathematics-of-big-data-and-machine-learning-january-iap-2020/index.htm',\n",
       " '/resources/res-ll-005-mathematics-of-big-data-and-machine-learning-january-iap-2020/syllabus',\n",
       " '#',\n",
       " '/resources/res-ll-005-mathematics-of-big-data-and-machine-learning-january-iap-2020/instructor-insights',\n",
       " '/resources/res-ll-005-mathematics-of-big-data-and-machine-learning-january-iap-2020/instructor-insights/a-novel-course-on-a-new-technology',\n",
       " '/resources/res-ll-005-mathematics-of-big-data-and-machine-learning-january-iap-2020/instructor-insights/lectures-as-performance',\n",
       " '/resources/res-ll-005-mathematics-of-big-data-and-machine-learning-january-iap-2020/instructor-insights/homework-assignments-that-spotlight-application',\n",
       " '/resources/res-ll-005-mathematics-of-big-data-and-machine-learning-january-iap-2020/instructor-insights/valuing-concept-transition',\n",
       " '/resources/res-ll-005-mathematics-of-big-data-and-machine-learning-january-iap-2020/lecture-notes',\n",
       " '/resources/res-ll-005-mathematics-of-big-data-and-machine-learning-january-iap-2020/class-videos',\n",
       " '/resources/res-ll-005-mathematics-of-big-data-and-machine-learning-january-iap-2020/download-resource-materials',\n",
       " '/resources/res-ll-005-mathematics-of-big-data-and-machine-learning-january-iap-2020/lecture-notes/MITRES_LL_005IAP20_Supplemental_Ses01.pdf',\n",
       " '/resources/res-ll-005-mathematics-of-big-data-and-machine-learning-january-iap-2020/lecture-notes/MITRES_LL_005IAP20_Supplemental_Ses02_Part1.pdf',\n",
       " '/resources/res-ll-005-mathematics-of-big-data-and-machine-learning-january-iap-2020/lecture-notes/MITRES_LL_005IAP20_Supplemental_Ses02_Part2.pdf',\n",
       " '/resources/res-ll-005-mathematics-of-big-data-and-machine-learning-january-iap-2020/lecture-notes/MITRES_LL_005F12_Lec0.pdf',\n",
       " '/resources/res-ll-005-mathematics-of-big-data-and-machine-learning-january-iap-2020/lecture-notes/MITRES_LL_005F12_Lec1.pdf',\n",
       " '/resources/res-ll-005-mathematics-of-big-data-and-machine-learning-january-iap-2020/lecture-notes/MITRES_LL_005F12_Lec2.pdf',\n",
       " '/resources/res-ll-005-mathematics-of-big-data-and-machine-learning-january-iap-2020/lecture-notes/MITRES_LL_005F12_Lec3.pdf',\n",
       " '/resources/res-ll-005-mathematics-of-big-data-and-machine-learning-january-iap-2020/lecture-notes/MITRES_LL_005F12_Lec4.pdf',\n",
       " '/resources/res-ll-005-mathematics-of-big-data-and-machine-learning-january-iap-2020/lecture-notes/MITRES_LL_005F12_Lec5.pdf',\n",
       " '/resources/res-ll-005-mathematics-of-big-data-and-machine-learning-january-iap-2020/lecture-notes/MITRES_LL_005F12_Lec6.pdf',\n",
       " '/resources/res-ll-005-mathematics-of-big-data-and-machine-learning-january-iap-2020/lecture-notes/MITRES_LL_005F12_Lec8.pdf',\n",
       " \"javascript: trackEvents('Bottom Get Started','bottom get started Click','Help Overlay');\",\n",
       " \"javascript:disableHelpPopup(); trackEvents('Bottom Don\\\\'t Show','bottom don\\\\'t show Click','Help Overlay');\",\n",
       " \"javascript:disableHelpPopup(); trackEvents('Popup Don\\\\'t Show','popup don\\\\'t show Click','Help Overlay');\",\n",
       " 'https://ocw.mit.edu/help/get-started-with-ocw/',\n",
       " '/courses/find-by-topic/',\n",
       " '/courses/find-by-number/',\n",
       " '/courses/find-by-department/',\n",
       " '/courses/new-courses/',\n",
       " '/courses/most-visited-courses/',\n",
       " '/courses/ocw-scholar/',\n",
       " '/courses/audio-video-courses/',\n",
       " '/courses/online-textbooks/',\n",
       " '/courses/instructor-insights/',\n",
       " '/resources/',\n",
       " '/courses/mitx-related-courseware/',\n",
       " '/courses/mit-open-learning-library/',\n",
       " '/courses/translated-courses/',\n",
       " 'https://chalk-radio.simplecast.com/',\n",
       " '/educator/',\n",
       " '/courses/instructor-insights/',\n",
       " 'https://openlearning.mit.edu/campus/digital-innovations/',\n",
       " '/high-school/',\n",
       " '/educator/additional-resources/',\n",
       " '/give/',\n",
       " '/give/why-give/',\n",
       " '/give/our-supporters/',\n",
       " '/give/other-ways-to-contribute/',\n",
       " '/support/',\n",
       " '/about/',\n",
       " '/about/site-statistics/',\n",
       " '/about/ocw-stories/',\n",
       " '/about/newsletter/',\n",
       " 'https://www.ocw-openmatters.org/',\n",
       " '/help/',\n",
       " '/about/contactus',\n",
       " 'https://accessibility.mit.edu/',\n",
       " '/help/site-map/',\n",
       " '/terms/',\n",
       " '/help/rss/',\n",
       " '/about/',\n",
       " 'http://web.mit.edu',\n",
       " 'https://openlearning.mit.edu/',\n",
       " 'https://www.oeglobal.org/',\n",
       " 'http://creativecommons.org/licenses/by-nc-sa/4.0/',\n",
       " 'https://creativecommons.org/licenses/by-nc-sa/4.0/',\n",
       " '/terms/']"
      ]
     },
     "execution_count": 48,
     "metadata": {},
     "output_type": "execute_result"
    }
   ],
   "source": [
    "all_a_list"
   ]
  },
  {
   "cell_type": "code",
   "execution_count": 37,
   "id": "8509e16c",
   "metadata": {},
   "outputs": [],
   "source": [
    "# find all a \n",
    "# with regex where\n",
    "# string start with \"href\"\n",
    "# and ends with .pdf"
   ]
  },
  {
   "cell_type": "code",
   "execution_count": 49,
   "id": "2227b1dd",
   "metadata": {},
   "outputs": [
    {
     "name": "stdout",
     "output_type": "stream",
     "text": [
      "/\n",
      "/subscribe/index.htm?utm_source=header\n",
      "https://facebook.com/mitocw\n",
      "https://www.instagram.com/mitocw/\n",
      "https://twitter.com/mitocw\n",
      "https://www.youtube.com/mitocw\n",
      "https://www.ocw-openmatters.org/\n",
      "/help\n",
      "/about/contactus/\n",
      "/\n",
      "#\n",
      "/courses/find-by-topic/\n",
      "/courses/find-by-number/\n",
      "/courses/find-by-department/\n",
      "/courses/new-courses/\n",
      "/courses/most-visited-courses/\n",
      "/courses/ocw-scholar/\n",
      "/courses/audio-video-courses/\n",
      "/courses/online-textbooks/\n",
      "/resources/\n",
      "/high-school/\n",
      "/courses/mitx-related-courseware/\n",
      "/courses/mit-open-learning-library/\n",
      "/courses/energy-courses\n",
      "/courses/entrepreneurship\n",
      "/courses/environment-courses\n",
      "/courses/intro-programming\n",
      "/courses/life-sciences\n",
      "/courses/transportation-courses\n",
      "/courses/translated-courses/traditional-chinese\n",
      "/courses/translated-courses/turkish\n",
      "/courses/translated-courses/korean\n",
      "#\n",
      "/educator/chalk-radio-podcast\n",
      "/educator/\n",
      "/courses/instructor-insights/\n",
      "https://openlearning.mit.edu/campus/digital-innovations/\n",
      "/high-school/\n",
      "/educator/additional-resources/\n",
      "#\n",
      "/give/\n",
      "/give/why-give/\n",
      "/give/our-supporters/\n",
      "/give/other-ways-to-contribute/\n",
      "/support/\n",
      "#\n",
      "/about/\n",
      "/about/site-statistics/\n",
      "/about/ocw-stories/\n",
      "/about/newsletter/\n",
      "https://chalk-radio.simplecast.com/\n",
      "https://www.ocw-openmatters.org/\n",
      "#\n",
      "/\n",
      "/resources\n",
      "/resources/res-ll-005-mathematics-of-big-data-and-machine-learning-january-iap-2020\n",
      "/resources/res-ll-005-mathematics-of-big-data-and-machine-learning-january-iap-2020/index.htm\n",
      "/resources/res-ll-005-mathematics-of-big-data-and-machine-learning-january-iap-2020/syllabus\n",
      "#\n",
      "/resources/res-ll-005-mathematics-of-big-data-and-machine-learning-january-iap-2020/instructor-insights\n",
      "/resources/res-ll-005-mathematics-of-big-data-and-machine-learning-january-iap-2020/instructor-insights/a-novel-course-on-a-new-technology\n",
      "/resources/res-ll-005-mathematics-of-big-data-and-machine-learning-january-iap-2020/instructor-insights/lectures-as-performance\n",
      "/resources/res-ll-005-mathematics-of-big-data-and-machine-learning-january-iap-2020/instructor-insights/homework-assignments-that-spotlight-application\n",
      "/resources/res-ll-005-mathematics-of-big-data-and-machine-learning-january-iap-2020/instructor-insights/valuing-concept-transition\n",
      "/resources/res-ll-005-mathematics-of-big-data-and-machine-learning-january-iap-2020/lecture-notes\n",
      "/resources/res-ll-005-mathematics-of-big-data-and-machine-learning-january-iap-2020/class-videos\n",
      "/resources/res-ll-005-mathematics-of-big-data-and-machine-learning-january-iap-2020/download-resource-materials\n",
      "/resources/res-ll-005-mathematics-of-big-data-and-machine-learning-january-iap-2020/lecture-notes/MITRES_LL_005IAP20_Supplemental_Ses01.pdf\n",
      "/resources/res-ll-005-mathematics-of-big-data-and-machine-learning-january-iap-2020/lecture-notes/MITRES_LL_005IAP20_Supplemental_Ses02_Part1.pdf\n",
      "/resources/res-ll-005-mathematics-of-big-data-and-machine-learning-january-iap-2020/lecture-notes/MITRES_LL_005IAP20_Supplemental_Ses02_Part2.pdf\n",
      "/resources/res-ll-005-mathematics-of-big-data-and-machine-learning-january-iap-2020/lecture-notes/MITRES_LL_005F12_Lec0.pdf\n",
      "/resources/res-ll-005-mathematics-of-big-data-and-machine-learning-january-iap-2020/lecture-notes/MITRES_LL_005F12_Lec1.pdf\n",
      "/resources/res-ll-005-mathematics-of-big-data-and-machine-learning-january-iap-2020/lecture-notes/MITRES_LL_005F12_Lec2.pdf\n",
      "/resources/res-ll-005-mathematics-of-big-data-and-machine-learning-january-iap-2020/lecture-notes/MITRES_LL_005F12_Lec3.pdf\n",
      "/resources/res-ll-005-mathematics-of-big-data-and-machine-learning-january-iap-2020/lecture-notes/MITRES_LL_005F12_Lec4.pdf\n",
      "/resources/res-ll-005-mathematics-of-big-data-and-machine-learning-january-iap-2020/lecture-notes/MITRES_LL_005F12_Lec5.pdf\n",
      "/resources/res-ll-005-mathematics-of-big-data-and-machine-learning-january-iap-2020/lecture-notes/MITRES_LL_005F12_Lec6.pdf\n",
      "/resources/res-ll-005-mathematics-of-big-data-and-machine-learning-january-iap-2020/lecture-notes/MITRES_LL_005F12_Lec8.pdf\n",
      "javascript: trackEvents('Bottom Get Started','bottom get started Click','Help Overlay');\n",
      "javascript:disableHelpPopup(); trackEvents('Bottom Don\\'t Show','bottom don\\'t show Click','Help Overlay');\n",
      "javascript:disableHelpPopup(); trackEvents('Popup Don\\'t Show','popup don\\'t show Click','Help Overlay');\n",
      "https://ocw.mit.edu/help/get-started-with-ocw/\n",
      "/courses/find-by-topic/\n",
      "/courses/find-by-number/\n",
      "/courses/find-by-department/\n",
      "/courses/new-courses/\n",
      "/courses/most-visited-courses/\n",
      "/courses/ocw-scholar/\n",
      "/courses/audio-video-courses/\n",
      "/courses/online-textbooks/\n",
      "/courses/instructor-insights/\n",
      "/resources/\n",
      "/courses/mitx-related-courseware/\n",
      "/courses/mit-open-learning-library/\n",
      "/courses/translated-courses/\n",
      "https://chalk-radio.simplecast.com/\n",
      "/educator/\n",
      "/courses/instructor-insights/\n",
      "https://openlearning.mit.edu/campus/digital-innovations/\n",
      "/high-school/\n",
      "/educator/additional-resources/\n",
      "/give/\n",
      "/give/why-give/\n",
      "/give/our-supporters/\n",
      "/give/other-ways-to-contribute/\n",
      "/support/\n",
      "/about/\n",
      "/about/site-statistics/\n",
      "/about/ocw-stories/\n",
      "/about/newsletter/\n",
      "https://www.ocw-openmatters.org/\n",
      "/help/\n",
      "/about/contactus\n",
      "https://accessibility.mit.edu/\n",
      "/help/site-map/\n",
      "/terms/\n",
      "/help/rss/\n",
      "/about/\n",
      "http://web.mit.edu\n",
      "https://openlearning.mit.edu/\n",
      "https://www.oeglobal.org/\n",
      "http://creativecommons.org/licenses/by-nc-sa/4.0/\n",
      "https://creativecommons.org/licenses/by-nc-sa/4.0/\n",
      "/terms/\n"
     ]
    }
   ],
   "source": [
    "for a in all_a_list:\n",
    "    print(a)"
   ]
  },
  {
   "cell_type": "code",
   "execution_count": 39,
   "id": "365e49f5",
   "metadata": {},
   "outputs": [
    {
     "name": "stdout",
     "output_type": "stream",
     "text": [
      "['ark', 'disembark', 'pork']\n"
     ]
    }
   ],
   "source": [
    "\"\"\"\n",
    "Sample code for regex to use\n",
    "\"\"\"\n",
    "\n",
    "a_list = [\"ark\", \"disembark\", \"quack\", \"rock\", \"pork\"]\n",
    "\n",
    "r = re.compile(\".*rk\")\n",
    "filtered_list = list(filter(r.match, a_list))\n",
    "\n",
    "print(filtered_list)"
   ]
  },
  {
   "cell_type": "code",
   "execution_count": 40,
   "id": "55aa6d88",
   "metadata": {},
   "outputs": [
    {
     "data": {
      "text/plain": [
       "'.*pdf*'"
      ]
     },
     "execution_count": 40,
     "metadata": {},
     "output_type": "execute_result"
    }
   ],
   "source": [
    "\".*pdf*\""
   ]
  },
  {
   "cell_type": "code",
   "execution_count": 72,
   "id": "a4570865",
   "metadata": {},
   "outputs": [
    {
     "name": "stdout",
     "output_type": "stream",
     "text": [
      "['/resources/res-ll-005-mathematics-of-big-data-and-machine-learning-january-iap-2020/lecture-notes/MITRES_LL_005IAP20_Supplemental_Ses01.pdf', '/resources/res-ll-005-mathematics-of-big-data-and-machine-learning-january-iap-2020/lecture-notes/MITRES_LL_005IAP20_Supplemental_Ses02_Part1.pdf', '/resources/res-ll-005-mathematics-of-big-data-and-machine-learning-january-iap-2020/lecture-notes/MITRES_LL_005IAP20_Supplemental_Ses02_Part2.pdf', '/resources/res-ll-005-mathematics-of-big-data-and-machine-learning-january-iap-2020/lecture-notes/MITRES_LL_005F12_Lec0.pdf', '/resources/res-ll-005-mathematics-of-big-data-and-machine-learning-january-iap-2020/lecture-notes/MITRES_LL_005F12_Lec1.pdf', '/resources/res-ll-005-mathematics-of-big-data-and-machine-learning-january-iap-2020/lecture-notes/MITRES_LL_005F12_Lec2.pdf', '/resources/res-ll-005-mathematics-of-big-data-and-machine-learning-january-iap-2020/lecture-notes/MITRES_LL_005F12_Lec3.pdf', '/resources/res-ll-005-mathematics-of-big-data-and-machine-learning-january-iap-2020/lecture-notes/MITRES_LL_005F12_Lec4.pdf', '/resources/res-ll-005-mathematics-of-big-data-and-machine-learning-january-iap-2020/lecture-notes/MITRES_LL_005F12_Lec5.pdf', '/resources/res-ll-005-mathematics-of-big-data-and-machine-learning-january-iap-2020/lecture-notes/MITRES_LL_005F12_Lec6.pdf', '/resources/res-ll-005-mathematics-of-big-data-and-machine-learning-january-iap-2020/lecture-notes/MITRES_LL_005F12_Lec8.pdf']\n"
     ]
    }
   ],
   "source": [
    "r = re.compile(\".*.pdf$\")\n",
    "filtered_list = list(filter(r.match, all_a_list))\n",
    "\n",
    "print(filtered_list)"
   ]
  },
  {
   "cell_type": "code",
   "execution_count": 65,
   "id": "f41ca3c6",
   "metadata": {},
   "outputs": [],
   "source": [
    "# r_mp4 = re.compile(\".*.mp4*\")\n",
    "# filtered_list = list(filter(r_mp4.match, all_a_list))\n",
    "\n",
    "# print(filtered_list)"
   ]
  },
  {
   "cell_type": "code",
   "execution_count": 59,
   "id": "3a7a417c",
   "metadata": {},
   "outputs": [],
   "source": [
    "url_mp4 = \"https://ocw.mit.edu/resources/res-ll-005-mathematics-of-big-data-and-machine-learning-january-iap-2020/class-videos/\""
   ]
  },
  {
   "cell_type": "code",
   "execution_count": 60,
   "id": "c6377abd",
   "metadata": {},
   "outputs": [],
   "source": [
    "req_mp4 = requests.get(url_mp4)"
   ]
  },
  {
   "cell_type": "code",
   "execution_count": 61,
   "id": "622d7334",
   "metadata": {},
   "outputs": [],
   "source": [
    "soup_mp4 = BeautifulSoup(req_mp4.text, \"html.parser\")"
   ]
  },
  {
   "cell_type": "code",
   "execution_count": 67,
   "id": "78df8293",
   "metadata": {},
   "outputs": [],
   "source": [
    "all_a_mp4 = soup_mp4.find_all('a')"
   ]
  },
  {
   "cell_type": "code",
   "execution_count": 68,
   "id": "b7ef5cd7",
   "metadata": {},
   "outputs": [],
   "source": [
    "all_a_list_mp4 = []\n",
    "for a in all_a_mp4:\n",
    "    all_a_list_mp4.append(a.get('href'))"
   ]
  },
  {
   "cell_type": "code",
   "execution_count": 69,
   "id": "571acf59",
   "metadata": {},
   "outputs": [
    {
     "data": {
      "text/plain": [
       "['/',\n",
       " '/subscribe/index.htm?utm_source=header',\n",
       " 'https://facebook.com/mitocw',\n",
       " 'https://www.instagram.com/mitocw/',\n",
       " 'https://twitter.com/mitocw',\n",
       " 'https://www.youtube.com/mitocw',\n",
       " 'https://www.ocw-openmatters.org/',\n",
       " '/help',\n",
       " '/about/contactus/',\n",
       " '/',\n",
       " '#',\n",
       " '/courses/find-by-topic/',\n",
       " '/courses/find-by-number/',\n",
       " '/courses/find-by-department/',\n",
       " '/courses/new-courses/',\n",
       " '/courses/most-visited-courses/',\n",
       " '/courses/ocw-scholar/',\n",
       " '/courses/audio-video-courses/',\n",
       " '/courses/online-textbooks/',\n",
       " '/resources/',\n",
       " '/high-school/',\n",
       " '/courses/mitx-related-courseware/',\n",
       " '/courses/mit-open-learning-library/',\n",
       " '/courses/energy-courses',\n",
       " '/courses/entrepreneurship',\n",
       " '/courses/environment-courses',\n",
       " '/courses/intro-programming',\n",
       " '/courses/life-sciences',\n",
       " '/courses/transportation-courses',\n",
       " '/courses/translated-courses/traditional-chinese',\n",
       " '/courses/translated-courses/turkish',\n",
       " '/courses/translated-courses/korean',\n",
       " '#',\n",
       " '/educator/chalk-radio-podcast',\n",
       " '/educator/',\n",
       " '/courses/instructor-insights/',\n",
       " 'https://openlearning.mit.edu/campus/digital-innovations/',\n",
       " '/high-school/',\n",
       " '/educator/additional-resources/',\n",
       " '#',\n",
       " '/give/',\n",
       " '/give/why-give/',\n",
       " '/give/our-supporters/',\n",
       " '/give/other-ways-to-contribute/',\n",
       " '/support/',\n",
       " '#',\n",
       " '/about/',\n",
       " '/about/site-statistics/',\n",
       " '/about/ocw-stories/',\n",
       " '/about/newsletter/',\n",
       " 'https://chalk-radio.simplecast.com/',\n",
       " 'https://www.ocw-openmatters.org/',\n",
       " '#',\n",
       " '/',\n",
       " '/resources',\n",
       " '/resources/res-ll-005-mathematics-of-big-data-and-machine-learning-january-iap-2020',\n",
       " '/resources/res-ll-005-mathematics-of-big-data-and-machine-learning-january-iap-2020/index.htm',\n",
       " '/resources/res-ll-005-mathematics-of-big-data-and-machine-learning-january-iap-2020/syllabus',\n",
       " '#',\n",
       " '/resources/res-ll-005-mathematics-of-big-data-and-machine-learning-january-iap-2020/instructor-insights',\n",
       " '/resources/res-ll-005-mathematics-of-big-data-and-machine-learning-january-iap-2020/instructor-insights/a-novel-course-on-a-new-technology',\n",
       " '/resources/res-ll-005-mathematics-of-big-data-and-machine-learning-january-iap-2020/instructor-insights/lectures-as-performance',\n",
       " '/resources/res-ll-005-mathematics-of-big-data-and-machine-learning-january-iap-2020/instructor-insights/homework-assignments-that-spotlight-application',\n",
       " '/resources/res-ll-005-mathematics-of-big-data-and-machine-learning-january-iap-2020/instructor-insights/valuing-concept-transition',\n",
       " '/resources/res-ll-005-mathematics-of-big-data-and-machine-learning-january-iap-2020/lecture-notes',\n",
       " '/resources/res-ll-005-mathematics-of-big-data-and-machine-learning-january-iap-2020/class-videos',\n",
       " '/resources/res-ll-005-mathematics-of-big-data-and-machine-learning-january-iap-2020/download-resource-materials',\n",
       " 'https://itunes.apple.com/us/itunes-u/id1103408272',\n",
       " 'https://archive.org/download/MITRESLL-005F12/MITRESLL-005F12_IEPBigData_300k.mp4',\n",
       " '/resources/res-ll-005-mathematics-of-big-data-and-machine-learning-january-iap-2020/class-videos/mathematics-for-big-data-and-machine-learning/iCAZLl6nq4c.pdf',\n",
       " '/resources/res-ll-005-mathematics-of-big-data-and-machine-learning-january-iap-2020/class-videos/mathematics-for-big-data-and-machine-learning/iCAZLl6nq4c.srt',\n",
       " 'https://archive.org/download/MITRESLL-005IAP20/MITRESLL-005IAP20_ses01_300k.mp4',\n",
       " '/resources/res-ll-005-mathematics-of-big-data-and-machine-learning-january-iap-2020/class-videos/artificial-intelligence-and-machine-learning/t4K6lney7Zw.pdf',\n",
       " '/resources/res-ll-005-mathematics-of-big-data-and-machine-learning-january-iap-2020/class-videos/artificial-intelligence-and-machine-learning/t4K6lney7Zw.srt',\n",
       " 'https://archive.org/download/MITRESLL-005IAP20/MITRESLL-005IAP20_ses02_300k.mp4',\n",
       " '/resources/res-ll-005-mathematics-of-big-data-and-machine-learning-january-iap-2020/class-videos/cyber-network-data-processing/RpPlj2HnuWg.pdf',\n",
       " '/resources/res-ll-005-mathematics-of-big-data-and-machine-learning-january-iap-2020/class-videos/cyber-network-data-processing/RpPlj2HnuWg.srt',\n",
       " 'https://archive.org/download/MITRESLL-005IAP20/MITRESLL-005IAP20_ses02_300k.mp4',\n",
       " '/resources/res-ll-005-mathematics-of-big-data-and-machine-learning-january-iap-2020/class-videos/ai-data-architecture/RpPlj2HnuWg.pdf',\n",
       " '/resources/res-ll-005-mathematics-of-big-data-and-machine-learning-january-iap-2020/class-videos/ai-data-architecture/RpPlj2HnuWg.srt',\n",
       " '/resources/res-ll-005-mathematics-of-big-data-and-machine-learning-january-iap-2020/class-videos/rss.xml',\n",
       " '/resources/res-ll-005-mathematics-of-big-data-and-machine-learning-january-iap-2020/class-videos/d4m-session-0-lecture',\n",
       " '/resources/res-ll-005-mathematics-of-big-data-and-machine-learning-january-iap-2020/class-videos/d4m-session-0-lecture',\n",
       " '/resources/res-ll-005-mathematics-of-big-data-and-machine-learning-january-iap-2020/class-videos/d4m-session-0-demo',\n",
       " '/resources/res-ll-005-mathematics-of-big-data-and-machine-learning-january-iap-2020/class-videos/d4m-session-0-demo',\n",
       " '/resources/res-ll-005-mathematics-of-big-data-and-machine-learning-january-iap-2020/class-videos/d4m-session-1-lecture',\n",
       " '/resources/res-ll-005-mathematics-of-big-data-and-machine-learning-january-iap-2020/class-videos/d4m-session-1-lecture',\n",
       " '/resources/res-ll-005-mathematics-of-big-data-and-machine-learning-january-iap-2020/class-videos/d4m-session-1-demo',\n",
       " '/resources/res-ll-005-mathematics-of-big-data-and-machine-learning-january-iap-2020/class-videos/d4m-session-1-demo',\n",
       " '/resources/res-ll-005-mathematics-of-big-data-and-machine-learning-january-iap-2020/class-videos/d4m-session-2-lecture',\n",
       " '/resources/res-ll-005-mathematics-of-big-data-and-machine-learning-january-iap-2020/class-videos/d4m-session-2-lecture',\n",
       " '/resources/res-ll-005-mathematics-of-big-data-and-machine-learning-january-iap-2020/class-videos/d4m-session-2-demo',\n",
       " '/resources/res-ll-005-mathematics-of-big-data-and-machine-learning-january-iap-2020/class-videos/d4m-session-2-demo',\n",
       " '/resources/res-ll-005-mathematics-of-big-data-and-machine-learning-january-iap-2020/class-videos/d4m-session-3-lecture',\n",
       " '/resources/res-ll-005-mathematics-of-big-data-and-machine-learning-january-iap-2020/class-videos/d4m-session-3-lecture',\n",
       " '/resources/res-ll-005-mathematics-of-big-data-and-machine-learning-january-iap-2020/class-videos/d4m-session-3-demo',\n",
       " '/resources/res-ll-005-mathematics-of-big-data-and-machine-learning-january-iap-2020/class-videos/d4m-session-3-demo',\n",
       " '/resources/res-ll-005-mathematics-of-big-data-and-machine-learning-january-iap-2020/class-videos/d4m-session-4-lecture',\n",
       " '/resources/res-ll-005-mathematics-of-big-data-and-machine-learning-january-iap-2020/class-videos/d4m-session-4-lecture',\n",
       " '/resources/res-ll-005-mathematics-of-big-data-and-machine-learning-january-iap-2020/class-videos/d4m-session-4-demo',\n",
       " '/resources/res-ll-005-mathematics-of-big-data-and-machine-learning-january-iap-2020/class-videos/d4m-session-4-demo',\n",
       " '/resources/res-ll-005-mathematics-of-big-data-and-machine-learning-january-iap-2020/class-videos/d4m-session-5-lecture',\n",
       " '/resources/res-ll-005-mathematics-of-big-data-and-machine-learning-january-iap-2020/class-videos/d4m-session-5-lecture',\n",
       " '/resources/res-ll-005-mathematics-of-big-data-and-machine-learning-january-iap-2020/class-videos/d4m-session-5-demo',\n",
       " '/resources/res-ll-005-mathematics-of-big-data-and-machine-learning-january-iap-2020/class-videos/d4m-session-5-demo',\n",
       " '/resources/res-ll-005-mathematics-of-big-data-and-machine-learning-january-iap-2020/class-videos/d4m-session-6-lecture',\n",
       " '/resources/res-ll-005-mathematics-of-big-data-and-machine-learning-january-iap-2020/class-videos/d4m-session-6-lecture',\n",
       " '/resources/res-ll-005-mathematics-of-big-data-and-machine-learning-january-iap-2020/class-videos/d4m-session-6-demo',\n",
       " '/resources/res-ll-005-mathematics-of-big-data-and-machine-learning-january-iap-2020/class-videos/d4m-session-6-demo',\n",
       " '/resources/res-ll-005-mathematics-of-big-data-and-machine-learning-january-iap-2020/class-videos/d4m-session-7-demo-1',\n",
       " '/resources/res-ll-005-mathematics-of-big-data-and-machine-learning-january-iap-2020/class-videos/d4m-session-7-demo-1',\n",
       " '/resources/res-ll-005-mathematics-of-big-data-and-machine-learning-january-iap-2020/class-videos/d4m-session-8-lecture',\n",
       " '/resources/res-ll-005-mathematics-of-big-data-and-machine-learning-january-iap-2020/class-videos/d4m-session-8-lecture',\n",
       " '/resources/res-ll-005-mathematics-of-big-data-and-machine-learning-january-iap-2020/class-videos/d4m-session-8-demo-1',\n",
       " '/resources/res-ll-005-mathematics-of-big-data-and-machine-learning-january-iap-2020/class-videos/d4m-session-8-demo-1',\n",
       " \"javascript: trackEvents('Bottom Get Started','bottom get started Click','Help Overlay');\",\n",
       " \"javascript:disableHelpPopup(); trackEvents('Bottom Don\\\\'t Show','bottom don\\\\'t show Click','Help Overlay');\",\n",
       " \"javascript:disableHelpPopup(); trackEvents('Popup Don\\\\'t Show','popup don\\\\'t show Click','Help Overlay');\",\n",
       " 'https://ocw.mit.edu/help/get-started-with-ocw/',\n",
       " '/courses/find-by-topic/',\n",
       " '/courses/find-by-number/',\n",
       " '/courses/find-by-department/',\n",
       " '/courses/new-courses/',\n",
       " '/courses/most-visited-courses/',\n",
       " '/courses/ocw-scholar/',\n",
       " '/courses/audio-video-courses/',\n",
       " '/courses/online-textbooks/',\n",
       " '/courses/instructor-insights/',\n",
       " '/resources/',\n",
       " '/courses/mitx-related-courseware/',\n",
       " '/courses/mit-open-learning-library/',\n",
       " '/courses/translated-courses/',\n",
       " 'https://chalk-radio.simplecast.com/',\n",
       " '/educator/',\n",
       " '/courses/instructor-insights/',\n",
       " 'https://openlearning.mit.edu/campus/digital-innovations/',\n",
       " '/high-school/',\n",
       " '/educator/additional-resources/',\n",
       " '/give/',\n",
       " '/give/why-give/',\n",
       " '/give/our-supporters/',\n",
       " '/give/other-ways-to-contribute/',\n",
       " '/support/',\n",
       " '/about/',\n",
       " '/about/site-statistics/',\n",
       " '/about/ocw-stories/',\n",
       " '/about/newsletter/',\n",
       " 'https://www.ocw-openmatters.org/',\n",
       " '/help/',\n",
       " '/about/contactus',\n",
       " 'https://accessibility.mit.edu/',\n",
       " '/help/site-map/',\n",
       " '/terms/',\n",
       " '/help/rss/',\n",
       " '/about/',\n",
       " 'http://web.mit.edu',\n",
       " 'https://openlearning.mit.edu/',\n",
       " 'https://www.oeglobal.org/',\n",
       " 'http://creativecommons.org/licenses/by-nc-sa/4.0/',\n",
       " 'https://creativecommons.org/licenses/by-nc-sa/4.0/',\n",
       " '/terms/']"
      ]
     },
     "execution_count": 69,
     "metadata": {},
     "output_type": "execute_result"
    }
   ],
   "source": [
    "all_a_list_mp4"
   ]
  },
  {
   "cell_type": "code",
   "execution_count": 71,
   "id": "75c1661b",
   "metadata": {},
   "outputs": [
    {
     "name": "stdout",
     "output_type": "stream",
     "text": [
      "['https://archive.org/download/MITRESLL-005F12/MITRESLL-005F12_IEPBigData_300k.mp4', 'https://archive.org/download/MITRESLL-005IAP20/MITRESLL-005IAP20_ses01_300k.mp4', 'https://archive.org/download/MITRESLL-005IAP20/MITRESLL-005IAP20_ses02_300k.mp4', 'https://archive.org/download/MITRESLL-005IAP20/MITRESLL-005IAP20_ses02_300k.mp4']\n"
     ]
    }
   ],
   "source": [
    "r_mp4 = re.compile(\".*.mp4$\")\n",
    "filtered_list_mp4 = list(filter(r_mp4.match, all_a_list_mp4))\n",
    "\n",
    "print(filtered_list_mp4)"
   ]
  },
  {
   "cell_type": "code",
   "execution_count": null,
   "id": "3beb5d12",
   "metadata": {},
   "outputs": [],
   "source": []
  },
  {
   "cell_type": "code",
   "execution_count": null,
   "id": "b3cedf8d",
   "metadata": {},
   "outputs": [],
   "source": []
  }
 ],
 "metadata": {
  "kernelspec": {
   "display_name": "Python 3 (ipykernel)",
   "language": "python",
   "name": "python3"
  },
  "language_info": {
   "codemirror_mode": {
    "name": "ipython",
    "version": 3
   },
   "file_extension": ".py",
   "mimetype": "text/x-python",
   "name": "python",
   "nbconvert_exporter": "python",
   "pygments_lexer": "ipython3",
   "version": "3.10.0"
  }
 },
 "nbformat": 4,
 "nbformat_minor": 5
}
