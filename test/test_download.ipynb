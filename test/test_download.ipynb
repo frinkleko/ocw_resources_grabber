{
 "cells": [
  {
   "cell_type": "code",
   "execution_count": 1,
   "id": "1ccf609c",
   "metadata": {},
   "outputs": [],
   "source": [
    "import requests \n",
    "import re\n",
    "from bs4 import BeautifulSoup"
   ]
  },
  {
   "cell_type": "code",
   "execution_count": 24,
   "id": "d23b12be",
   "metadata": {},
   "outputs": [],
   "source": [
    "from datetime import datetime"
   ]
  },
  {
   "cell_type": "code",
   "execution_count": 42,
   "id": "c050ce58",
   "metadata": {},
   "outputs": [],
   "source": [
    "import os"
   ]
  },
  {
   "cell_type": "code",
   "execution_count": 20,
   "id": "dfd984e9",
   "metadata": {},
   "outputs": [],
   "source": [
    "main_url = \"https://ocw.mit.edu/\""
   ]
  },
  {
   "cell_type": "code",
   "execution_count": 2,
   "id": "b779cf14",
   "metadata": {},
   "outputs": [],
   "source": [
    "url = \"https://ocw.mit.edu/resources/res-ll-005-mathematics-of-big-data-and-machine-learning-january-iap-2020/lecture-notes/\"\n",
    "req = requests.get(url)"
   ]
  },
  {
   "cell_type": "code",
   "execution_count": 3,
   "id": "9727c2f5",
   "metadata": {},
   "outputs": [],
   "source": [
    "soup = BeautifulSoup(req.text, \"html.parser\")"
   ]
  },
  {
   "cell_type": "code",
   "execution_count": 4,
   "id": "a3907142",
   "metadata": {},
   "outputs": [],
   "source": [
    "all_a = soup.find_all('a')"
   ]
  },
  {
   "cell_type": "code",
   "execution_count": 43,
   "id": "f9909f12",
   "metadata": {},
   "outputs": [
    {
     "name": "stdout",
     "output_type": "stream",
     "text": [
      "Downloading started\n",
      "Downloading...\n",
      "Downloading one file complete\n",
      "Downloading...\n",
      "Downloading one file complete\n",
      "Downloading...\n",
      "Downloading one file complete\n",
      "Downloading...\n",
      "Downloading one file complete\n",
      "Downloading...\n",
      "Downloading one file complete\n",
      "Downloading...\n",
      "Downloading one file complete\n",
      "Downloading...\n",
      "Downloading one file complete\n",
      "Downloading...\n",
      "Downloading one file complete\n",
      "Downloading...\n",
      "Downloading one file complete\n",
      "Downloading...\n",
      "Downloading one file complete\n",
      "Downloading...\n",
      "Downloading one file complete\n",
      "Full Downloading completed\n"
     ]
    }
   ],
   "source": [
    "print(\"Downloading started\")\n",
    "\n",
    "folder_name = datetime.now().strftime(\"%Y%m%d%H%M%S%f\")\n",
    "os.mkdir(folder_name)\n",
    "\n",
    "for a in all_a:\n",
    "    href = a.get('href')\n",
    "    filtered_href = re.match(\".*.pdf$\", href)\n",
    "#     filtered_href = filter(r.match, a)\n",
    "    if filtered_href:\n",
    "        filtered_href_str = filtered_href.string\n",
    "        file_name = filtered_href_str.split('/')[-1]\n",
    "        response = requests.get(main_url+filtered_href_str)\n",
    "        print(\"Downloading...\")\n",
    "        pdf = open(folder_name+\"/pdf_\"+file_name+\".pdf\", 'wb')\n",
    "        pdf.write(response.content)\n",
    "        pdf.close()\n",
    "        print(\"Downloading one file complete\")\n",
    "\n",
    "print(\"Full Downloading completed\")"
   ]
  },
  {
   "cell_type": "code",
   "execution_count": 40,
   "id": "3f9210a8",
   "metadata": {},
   "outputs": [
    {
     "name": "stdout",
     "output_type": "stream",
     "text": [
      "20220103191442370562\n"
     ]
    }
   ],
   "source": [
    "# req.url\n",
    "print(datetime.now().strftime(\"%Y%m%d%H%M%S%f\"))"
   ]
  },
  {
   "cell_type": "code",
   "execution_count": 31,
   "id": "06e918f5",
   "metadata": {},
   "outputs": [
    {
     "data": {
      "text/plain": [
       "datetime.datetime(2022, 1, 3, 19, 12, 56, 454969)"
      ]
     },
     "execution_count": 31,
     "metadata": {},
     "output_type": "execute_result"
    }
   ],
   "source": [
    "datetime.now()"
   ]
  },
  {
   "cell_type": "code",
   "execution_count": null,
   "id": "c5c6bc59",
   "metadata": {},
   "outputs": [],
   "source": []
  }
 ],
 "metadata": {
  "kernelspec": {
   "display_name": "Python 3 (ipykernel)",
   "language": "python",
   "name": "python3"
  },
  "language_info": {
   "codemirror_mode": {
    "name": "ipython",
    "version": 3
   },
   "file_extension": ".py",
   "mimetype": "text/x-python",
   "name": "python",
   "nbconvert_exporter": "python",
   "pygments_lexer": "ipython3",
   "version": "3.10.0"
  }
 },
 "nbformat": 4,
 "nbformat_minor": 5
}
